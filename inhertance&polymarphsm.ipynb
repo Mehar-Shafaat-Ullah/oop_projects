{
 "cells": [
  {
   "cell_type": "markdown",
   "metadata": {},
   "source": [
    "**Aggregation(Has-A rrelationship)**"
   ]
  },
  {
   "cell_type": "code",
   "execution_count": 7,
   "metadata": {},
   "outputs": [
    {
     "name": "stdout",
     "output_type": "stream",
     "text": [
      "lahore 11223 punjab\n",
      "lahore 11122233 punjab\n"
     ]
    }
   ],
   "source": [
    "#example\n",
    "class Customer:\n",
    "    def __init__(self,name, gender, address):\n",
    "        self.name = name\n",
    "        self.gender = gender\n",
    "        self.address = address\n",
    "    def print_address(self):\n",
    "        #print(self.address.get_city(), self.address.pin, self.address.state )\n",
    "        print(self.address._Address__city, self.address.pin, self.address.state )\n",
    "       #Method example\n",
    "    def edit_profile(self,new_name, new_city, new_pin, new_state):\n",
    "        self.name = new_name\n",
    "        self.address.edit_address(new_city,new_pin, new_state)\n",
    "\n",
    "class Address:\n",
    "    def __init__(self,city, pin, state):\n",
    "        self.__city = city\n",
    "        self.pin = pin\n",
    "        self.state = state\n",
    "\n",
    "    def get_city(self):\n",
    "        return self.__city\n",
    "\n",
    "    def edit_address(self, new_city, new_pin, new_state):\n",
    "        self.__city = new_city\n",
    "        self.pin = new_pin\n",
    "        self.state = new_state\n",
    "add1 = Address(\"lahore\",11223,\"punjab\")\n",
    "cust = Customer(\"shafaat\",\"male\",add1 )\n",
    "cust.print_address()\n",
    "cust.edit_profile(\"mehar\",\"lahore\", 11122233,\"punjab\")\n",
    "cust.print_address()\n"
   ]
  },
  {
   "cell_type": "markdown",
   "metadata": {},
   "source": [
    "**Aggreagation class diagram**"
   ]
  },
  {
   "cell_type": "code",
   "execution_count": 8,
   "metadata": {},
   "outputs": [],
   "source": [
    "  # we use DIAMOND sighn towards which own class"
   ]
  },
  {
   "cell_type": "markdown",
   "metadata": {},
   "source": [
    "**Inheritance**"
   ]
  },
  {
   "cell_type": "code",
   "execution_count": 18,
   "metadata": {},
   "outputs": [
    {
     "name": "stdout",
     "output_type": "stream",
     "text": [
      "SHafaat\n",
      "login\n",
      "enroll into course\n"
     ]
    }
   ],
   "source": [
    "class User:\n",
    "    def __init__(self):\n",
    "        self.name = \"SHafaat\"\n",
    "\n",
    "    def login(self):\n",
    "        print(\"login\")\n",
    "\n",
    "class Student(User):\n",
    "    \n",
    "    #def __init__ (self):\n",
    "       # self.rollno = 100\n",
    "\n",
    "    def enroll(self):\n",
    "        print(\"enroll into course\")\n",
    "\n",
    "\n",
    "u = User()\n",
    "s = Student()\n",
    "\n",
    "print(s.name)\n",
    "#print(s.rollno)\n",
    "s.login()\n",
    "s.enroll()"
   ]
  },
  {
   "cell_type": "code",
   "execution_count": 20,
   "metadata": {},
   "outputs": [
    {
     "name": "stdout",
     "output_type": "stream",
     "text": [
      "Buying a SmartPhone\n"
     ]
    }
   ],
   "source": [
    "#constructor example\n",
    "\n",
    "class Phone:\n",
    "    def __init__(self,price,brand,camera):\n",
    "        print(\"inside phone constructor\")\n",
    "        self.price = price\n",
    "        self.brand = brand\n",
    "        self.camera = camera\n",
    "\n",
    "class SmartPhone(Phone):\n",
    "    def __init__(self, os, ram):\n",
    "        self.os = os\n",
    "        self.ram = ram\n",
    "        print(\"Buying a SmartPhone\")\n",
    "s = SmartPhone(\"Apple\", 2)"
   ]
  },
  {
   "cell_type": "code",
   "execution_count": null,
   "metadata": {},
   "outputs": [],
   "source": [
    "."
   ]
  }
 ],
 "metadata": {
  "kernelspec": {
   "display_name": "Python 3",
   "language": "python",
   "name": "python3"
  },
  "language_info": {
   "codemirror_mode": {
    "name": "ipython",
    "version": 3
   },
   "file_extension": ".py",
   "mimetype": "text/x-python",
   "name": "python",
   "nbconvert_exporter": "python",
   "pygments_lexer": "ipython3",
   "version": "3.11.9"
  }
 },
 "nbformat": 4,
 "nbformat_minor": 2
}
