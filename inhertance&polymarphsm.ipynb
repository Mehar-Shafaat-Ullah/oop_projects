{
 "cells": [
  {
   "cell_type": "markdown",
   "metadata": {},
   "source": [
    "**Aggregation(Has-A rrelationship)**"
   ]
  },
  {
   "cell_type": "code",
   "execution_count": 7,
   "metadata": {},
   "outputs": [
    {
     "name": "stdout",
     "output_type": "stream",
     "text": [
      "lahore 11223 punjab\n",
      "lahore 11122233 punjab\n"
     ]
    }
   ],
   "source": [
    "#example\n",
    "class Customer:\n",
    "    def __init__(self,name, gender, address):\n",
    "        self.name = name\n",
    "        self.gender = gender\n",
    "        self.address = address\n",
    "    def print_address(self):\n",
    "        #print(self.address.get_city(), self.address.pin, self.address.state )\n",
    "        print(self.address._Address__city, self.address.pin, self.address.state )\n",
    "       #Method example\n",
    "    def edit_profile(self,new_name, new_city, new_pin, new_state):\n",
    "        self.name = new_name\n",
    "        self.address.edit_address(new_city,new_pin, new_state)\n",
    "\n",
    "class Address:\n",
    "    def __init__(self,city, pin, state):\n",
    "        self.__city = city\n",
    "        self.pin = pin\n",
    "        self.state = state\n",
    "\n",
    "    def get_city(self):\n",
    "        return self.__city\n",
    "\n",
    "    def edit_address(self, new_city, new_pin, new_state):\n",
    "        self.__city = new_city\n",
    "        self.pin = new_pin\n",
    "        self.state = new_state\n",
    "add1 = Address(\"lahore\",11223,\"punjab\")\n",
    "cust = Customer(\"shafaat\",\"male\",add1 )\n",
    "cust.print_address()\n",
    "cust.edit_profile(\"mehar\",\"lahore\", 11122233,\"punjab\")\n",
    "cust.print_address()\n"
   ]
  },
  {
   "cell_type": "markdown",
   "metadata": {},
   "source": [
    "**Aggreagation class diagram**"
   ]
  },
  {
   "cell_type": "code",
   "execution_count": 8,
   "metadata": {},
   "outputs": [],
   "source": [
    "  # we use DIAMOND sighn towards which own class"
   ]
  },
  {
   "cell_type": "markdown",
   "metadata": {},
   "source": [
    "**Inheritance**"
   ]
  },
  {
   "cell_type": "code",
   "execution_count": 18,
   "metadata": {},
   "outputs": [
    {
     "name": "stdout",
     "output_type": "stream",
     "text": [
      "SHafaat\n",
      "login\n",
      "enroll into course\n"
     ]
    }
   ],
   "source": [
    "class User:\n",
    "    def __init__(self):\n",
    "        self.name = \"SHafaat\"\n",
    "\n",
    "    def login(self):\n",
    "        print(\"login\")\n",
    "\n",
    "class Student(User):\n",
    "    \n",
    "    #def __init__ (self):\n",
    "       # self.rollno = 100\n",
    "\n",
    "    def enroll(self):\n",
    "        print(\"enroll into course\")\n",
    "\n",
    "\n",
    "u = User()\n",
    "s = Student()\n",
    "\n",
    "print(s.name)\n",
    "#print(s.rollno)\n",
    "s.login()\n",
    "s.enroll()"
   ]
  },
  {
   "cell_type": "code",
   "execution_count": 20,
   "metadata": {},
   "outputs": [
    {
     "name": "stdout",
     "output_type": "stream",
     "text": [
      "Buying a SmartPhone\n"
     ]
    }
   ],
   "source": [
    "#constructor example\n",
    "\n",
    "class Phone:\n",
    "    def __init__(self,price,brand,camera):\n",
    "        print(\"inside phone constructor\")\n",
    "        self.price = price\n",
    "        self.brand = brand\n",
    "        self.camera = camera\n",
    "\n",
    "class SmartPhone(Phone):\n",
    "    def __init__(self, os, ram):\n",
    "        self.os = os\n",
    "        self.ram = ram\n",
    "        print(\"Buying a SmartPhone\")\n",
    "s = SmartPhone(\"Apple\", 2)"
   ]
  },
  {
   "cell_type": "code",
   "execution_count": 23,
   "metadata": {},
   "outputs": [
    {
     "name": "stdout",
     "output_type": "stream",
     "text": [
      "inside phone consructor\n"
     ]
    },
    {
     "ename": "AttributeError",
     "evalue": "'SmartPhone' object has no attribute '_SmartPhone__price'",
     "output_type": "error",
     "traceback": [
      "\u001b[1;31m---------------------------------------------------------------------------\u001b[0m",
      "\u001b[1;31mAttributeError\u001b[0m                            Traceback (most recent call last)",
      "Cell \u001b[1;32mIn[23], line 17\u001b[0m\n\u001b[0;32m     14\u001b[0m         \u001b[38;5;28mprint\u001b[39m(\u001b[38;5;28mself\u001b[39m\u001b[38;5;241m.\u001b[39m__price)\n\u001b[0;32m     16\u001b[0m s \u001b[38;5;241m=\u001b[39m SmartPhone(\u001b[38;5;241m200000\u001b[39m, \u001b[38;5;124m\"\u001b[39m\u001b[38;5;124mApple\u001b[39m\u001b[38;5;124m\"\u001b[39m,\u001b[38;5;241m13\u001b[39m)\n\u001b[1;32m---> 17\u001b[0m \u001b[43ms\u001b[49m\u001b[38;5;241;43m.\u001b[39;49m\u001b[43mcheck\u001b[49m\u001b[43m(\u001b[49m\u001b[43m)\u001b[49m\n",
      "Cell \u001b[1;32mIn[23], line 14\u001b[0m, in \u001b[0;36mSmartPhone.check\u001b[1;34m(self)\u001b[0m\n\u001b[0;32m     13\u001b[0m \u001b[38;5;28;01mdef\u001b[39;00m \u001b[38;5;21mcheck\u001b[39m(\u001b[38;5;28mself\u001b[39m):\n\u001b[1;32m---> 14\u001b[0m     \u001b[38;5;28mprint\u001b[39m(\u001b[38;5;28;43mself\u001b[39;49m\u001b[38;5;241;43m.\u001b[39;49m\u001b[43m__price\u001b[49m)\n",
      "\u001b[1;31mAttributeError\u001b[0m: 'SmartPhone' object has no attribute '_SmartPhone__price'"
     ]
    }
   ],
   "source": [
    "#child cant access private members of the class\n",
    "class Phone:\n",
    "    def __init__(self, price, brand, camera):\n",
    "        print(\"inside phone consructor\")\n",
    "        self.__price = price\n",
    "        self.brand = brand\n",
    "        self.camera = camera\n",
    "\n",
    "    def show(self):\n",
    "        print(self.__price)\n",
    "\n",
    "class SmartPhone(Phone):\n",
    "    def check(self):\n",
    "        print(self.__price)\n",
    "\n",
    "s = SmartPhone(200000, \"Apple\",13)\n",
    "s.check()"
   ]
  },
  {
   "cell_type": "markdown",
   "metadata": {},
   "source": [
    "*opereator overloading*"
   ]
  },
  {
   "cell_type": "code",
   "execution_count": 24,
   "metadata": {},
   "outputs": [
    {
     "name": "stdout",
     "output_type": "stream",
     "text": [
      "3\n",
      "GeeksFor\n",
      "3\n",
      "GeeksFor\n",
      "3\n",
      "GeeksFor\n"
     ]
    }
   ],
   "source": [
    "class A:\n",
    "    def __init__(self, a):\n",
    "        self.a = a\n",
    "\n",
    "    # adding two objects \n",
    "    def __add__(self, o):\n",
    "        return self.a + o.a \n",
    "ob1 = A(1)\n",
    "ob2 = A(2)\n",
    "ob3 = A(\"Geeks\")\n",
    "ob4 = A(\"For\")\n",
    "\n",
    "print(ob1 + ob2)\n",
    "print(ob3 + ob4)\n",
    "# Actual working when Binary Operator is used.\n",
    "print(A.__add__(ob1 , ob2)) \n",
    "print(A.__add__(ob3,ob4)) \n",
    "#And can also be Understand as :\n",
    "print(ob1.__add__(ob2))\n",
    "print(ob3.__add__(ob4))\n"
   ]
  },
  {
   "cell_type": "markdown",
   "metadata": {},
   "source": [
    "**Abstraction**"
   ]
  },
  {
   "cell_type": "code",
   "execution_count": 31,
   "metadata": {},
   "outputs": [],
   "source": [
    "from abc import ABC, abstractmethod\n",
    "class BankApp(ABC):\n",
    "\n",
    "    def database(self):\n",
    "        print(\"connected to data base\")\n",
    "\n",
    "    @abstractmethod\n",
    "    def security(self):\n",
    "        pass"
   ]
  },
  {
   "cell_type": "code",
   "execution_count": 32,
   "metadata": {},
   "outputs": [],
   "source": [
    "class MobileApp(BankApp):\n",
    "    def mobile_login(self):\n",
    "        print(\"login into mobile\")\n",
    "\n",
    "    def security(self):\n",
    "        print(\"mobile security\")"
   ]
  },
  {
   "cell_type": "code",
   "execution_count": 34,
   "metadata": {},
   "outputs": [
    {
     "name": "stdout",
     "output_type": "stream",
     "text": [
      "connected to data base\n"
     ]
    }
   ],
   "source": [
    "mob = MobileApp()\n",
    "mob.database()"
   ]
  },
  {
   "cell_type": "code",
   "execution_count": null,
   "metadata": {},
   "outputs": [],
   "source": []
  }
 ],
 "metadata": {
  "kernelspec": {
   "display_name": "Python 3",
   "language": "python",
   "name": "python3"
  },
  "language_info": {
   "codemirror_mode": {
    "name": "ipython",
    "version": 3
   },
   "file_extension": ".py",
   "mimetype": "text/x-python",
   "name": "python",
   "nbconvert_exporter": "python",
   "pygments_lexer": "ipython3",
   "version": "3.11.9"
  }
 },
 "nbformat": 4,
 "nbformat_minor": 2
}
