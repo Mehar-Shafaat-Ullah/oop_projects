{
 "cells": [
  {
   "cell_type": "markdown",
   "metadata": {},
   "source": [
    "* **Write OOP classes to handle the following scenarios:**\n",
    "    * A user can create and view 2D coordinates.\n",
    "    * A user can find out the distance between 2 coordinates.\n",
    "    * A user can find the distance of coordinates from the origin.\n",
    "    * A user can check if a point lies on a given line.\n",
    "    * A user can find the distance between a given 2D point and a given line.\n"
   ]
  },
  {
   "cell_type": "code",
   "execution_count": 24,
   "metadata": {},
   "outputs": [],
   "source": [
    "class Point:\n",
    "    def __init__(self,x,y):\n",
    "        self.x_cod = x\n",
    "        self.y_cod  = y\n",
    "\n",
    "    def __str__(self):\n",
    "        return(f'<{self.x_cod},{self.y_cod}>')\n",
    "    \n",
    "        #user_input = input(\"Enter two coordinates using comma between them: \")\n",
    "        #x,y = map(int,user_input.split(\",\"))\n",
    "\n",
    "               \n",
    "    def euclidean_distance(self,other):\n",
    "        return ((self.x_cod - other.x_cod)**2 + (self.y_cod - other.y_cod)**2)*0.5\n",
    "    \n",
    "\n",
    "    def distance_from_origin(self):\n",
    "        #return self.euclidean_distance(Point(0,0))\n",
    "        return (self.x_cod**2 + self.y_cod**2)**0.5\n"
   ]
  },
  {
   "cell_type": "code",
   "execution_count": 26,
   "metadata": {},
   "outputs": [
    {
     "data": {
      "text/plain": [
       "0.0"
      ]
     },
     "execution_count": 26,
     "metadata": {},
     "output_type": "execute_result"
    }
   ],
   "source": [
    "p1 = Point(0,0)\n",
    "p2 = Point(10,10)\n",
    "p1.distance_from_origin()"
   ]
  },
  {
   "cell_type": "code",
   "execution_count": null,
   "metadata": {},
   "outputs": [],
   "source": []
  }
 ],
 "metadata": {
  "kernelspec": {
   "display_name": "Python 3",
   "language": "python",
   "name": "python3"
  },
  "language_info": {
   "codemirror_mode": {
    "name": "ipython",
    "version": 3
   },
   "file_extension": ".py",
   "mimetype": "text/x-python",
   "name": "python",
   "nbconvert_exporter": "python",
   "pygments_lexer": "ipython3",
   "version": "3.11.9"
  }
 },
 "nbformat": 4,
 "nbformat_minor": 2
}
