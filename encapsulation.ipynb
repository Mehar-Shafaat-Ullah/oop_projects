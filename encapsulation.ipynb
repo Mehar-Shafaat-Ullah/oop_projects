{
 "cells": [
  {
   "cell_type": "markdown",
   "metadata": {},
   "source": [
    "- **Write OOP classes to handle the following scenarios:**\n",
    "  - A user can create and view 2D coordinates.\n",
    "  - A user can find out the distance between 2 coordinates.\n",
    "  - A user can find the distance of coordinates from the origin.\n",
    "  - A user can check if a point lies on a given line.\n",
    "  - A user can find the distance between a given 2D point and a given line.\n"
   ]
  },
  {
   "cell_type": "code",
   "execution_count": 42,
   "metadata": {},
   "outputs": [],
   "source": [
    "class Point:\n",
    "    def __init__(self,x,y):\n",
    "        self.x_cod = x\n",
    "        self.y_cod  = y\n",
    "\n",
    "    def __str__(self):\n",
    "        return(f'<{self.x_cod},{self.y_cod}>')\n",
    "    \n",
    "        #user_input = input(\"Enter two coordinates using comma between them: \")\n",
    "        #x,y = map(int,user_input.split(\",\"))\n",
    "\n",
    "               \n",
    "    def euclidean_distance(self,other):\n",
    "        return ((self.x_cod - other.x_cod)**2 + (self.y_cod - other.y_cod)**2)*0.5\n",
    "    \n",
    "\n",
    "    def distance_from_origin(self):\n",
    "        #return self.euclidean_distance(Point(0,0))\n",
    "        return (self.x_cod**2 + self.y_cod**2)**0.5\n",
    "    \n",
    "\n",
    "class Line:\n",
    "    def __init__(self,A,B,C):\n",
    "        self.A = A\n",
    "        self.B = B\n",
    "        self.C = C\n",
    "    \n",
    "    def __str__(self):\n",
    "        return (f'{self.A}A + {self.B}B + {self.C}C = 0')\n",
    "    #we will use line instead self\n",
    "    def point_on_line(line,point):\n",
    "        if line.A * point.x_cod + line.B*point.y_cod + line.C == 0:\n",
    "            return \"lies on the line\"\n",
    "        else:\n",
    "            return \"does not lieson teh line\"\n",
    "        \n",
    "\n",
    "\n",
    "    def shortest_distance(line,point):\n",
    "         return abs(line.A *point.x_cod + line.B* point.y_cod + line.C)/(line.A**2 + line.B**2)**0.5"
   ]
  },
  {
   "cell_type": "code",
   "execution_count": 43,
   "metadata": {},
   "outputs": [
    {
     "name": "stdout",
     "output_type": "stream",
     "text": [
      "1A + 1B + 2C = 0\n",
      "<1,1>\n"
     ]
    },
    {
     "data": {
      "text/plain": [
       "2.82842712474619"
      ]
     },
     "execution_count": 43,
     "metadata": {},
     "output_type": "execute_result"
    }
   ],
   "source": [
    "l1 = Line(1,1,2)\n",
    "p1 = Point(1,1)\n",
    "print(l1)\n",
    "print(p1)\n",
    "#li is automatically passsed as input\n",
    "# we can pass object into the methods\n",
    "l1.shortest_distance(p1)"
   ]
  },
  {
   "cell_type": "code",
   "execution_count": 44,
   "metadata": {},
   "outputs": [
    {
     "data": {
      "text/plain": [
       "0.0"
      ]
     },
     "execution_count": 44,
     "metadata": {},
     "output_type": "execute_result"
    }
   ],
   "source": [
    "p1 = Point(0,0)\n",
    "p2 = Point(10,10)\n",
    "p1.distance_from_origin()"
   ]
  },
  {
   "cell_type": "markdown",
   "metadata": {},
   "source": [
    "**How Object acces attributes**\n"
   ]
  },
  {
   "cell_type": "code",
   "execution_count": 1,
   "metadata": {},
   "outputs": [],
   "source": [
    "class Person:\n",
    "\n",
    "    def __init__(self,name_input, country_input):\n",
    "        self.name = name_input\n",
    "        self.country = country_input\n",
    "\n",
    "    def greet(self):\n",
    "        if self.country == \"Pakistan\":\n",
    "            print (\"AOA\", self.name)\n",
    "        else:\n",
    "            print(\"Hello\", self.name)"
   ]
  },
  {
   "cell_type": "code",
   "execution_count": 11,
   "metadata": {},
   "outputs": [
    {
     "data": {
      "text/plain": [
       "'male'"
      ]
     },
     "execution_count": 11,
     "metadata": {},
     "output_type": "execute_result"
    }
   ],
   "source": [
    "p = Person(\"shafaat\",\"Pakistan\")\n",
    "#accessing attributes\n",
    "p.name\n",
    "p.country\n",
    "\n",
    "#we can aslo create attributes outside teh class , this attributes will automaticaaaly add in the class attributes\n",
    "p.gender = \"male\"\n",
    "p.gender"
   ]
  },
  {
   "cell_type": "markdown",
   "metadata": {},
   "source": [
    "**Reference Variable**\n"
   ]
  },
  {
   "cell_type": "code",
   "execution_count": 30,
   "metadata": {},
   "outputs": [
    {
     "name": "stdout",
     "output_type": "stream",
     "text": [
      "shafaat\n",
      "shafaat\n",
      "Mehar\n",
      "Mehar\n"
     ]
    }
   ],
   "source": [
    "class Person:\n",
    "    def __init__(self):\n",
    "        self.name = \"shafaat\"\n",
    "        self.gender = \"male\"\n",
    "\n",
    "\n",
    "p = Person()\n",
    "q = p\n",
    "print(p.name)\n",
    "print(q.name)\n",
    "q.name = \"Mehar\"\n",
    "print(q.name)\n",
    "print(p.name)"
   ]
  },
  {
   "cell_type": "code",
   "execution_count": 24,
   "metadata": {},
   "outputs": [
    {
     "name": "stdout",
     "output_type": "stream",
     "text": [
      "2632124429648\n",
      "2632124429648\n"
     ]
    }
   ],
   "source": [
    "#will be the same\n",
    "print(id(p))\n",
    "print(id(q))"
   ]
  },
  {
   "cell_type": "code",
   "execution_count": 29,
   "metadata": {},
   "outputs": [
    {
     "name": "stdout",
     "output_type": "stream",
     "text": [
      "Mehar\n",
      "Mehar\n",
      "Mehar\n",
      "Mehar\n"
     ]
    }
   ],
   "source": [
    "print(p.name)\n",
    "print(q.name)\n",
    "q.name = \"Mehar\"\n",
    "print(q.name)\n",
    "print(p.name)\n"
   ]
  },
  {
   "cell_type": "markdown",
   "metadata": {},
   "source": [
    "**pass by reference**\n"
   ]
  },
  {
   "cell_type": "code",
   "execution_count": 39,
   "metadata": {},
   "outputs": [
    {
     "name": "stdout",
     "output_type": "stream",
     "text": [
      "Hi my name is  shafaat and i am a  male\n",
      "Hi my name is  shafaat and i am a  male\n",
      "ankhit\n",
      "male\n"
     ]
    }
   ],
   "source": [
    "class Person:\n",
    "    def __init__(self,name,gender):\n",
    "        self.name = name\n",
    "        self.gender = gender\n",
    "\n",
    "def greet(person):\n",
    "    print(\"Hi my name is \", person.name, \"and i am a \", person.gender)\n",
    "    p1 = Person(\"ankhit\",\"male\")\n",
    "    return p1\n",
    "p = Person(\"shafaat\",\"male\")\n",
    "greet(p)\n",
    "x = greet(p)\n",
    "print(x.name)\n",
    "print(x.gender)"
   ]
  },
  {
   "cell_type": "markdown",
   "metadata": {},
   "source": [
    "**collection of objects**\n"
   ]
  },
  {
   "cell_type": "code",
   "execution_count": 55,
   "metadata": {},
   "outputs": [
    {
     "name": "stdout",
     "output_type": "stream",
     "text": [
      "[<__main__.Person object at 0x00000264D6E52D50>, <__main__.Person object at 0x00000264D67DBA10>, <__main__.Person object at 0x00000264D6E50F10>]\n",
      "shafaat male\n",
      "ibad male\n",
      "saad male\n"
     ]
    }
   ],
   "source": [
    "class Person:\n",
    "\n",
    "    def __init__(self, name, gender):\n",
    "        self.name = name\n",
    "        self.gender = gender\n",
    "\n",
    "p1 = Person(\"shafaat\",\"male\")\n",
    "p2 = Person(\"ibad\",\"male\")\n",
    "p3 = Person(\"saad\",\"male\")\n",
    "#storing collection of objects in list etc\n",
    "#[p1,p2,p3]\n",
    "L = [p1, p2 ,p3]\n",
    "print(L)\n",
    "#now we can do everything with list as jenerall\n",
    "for i in L:\n",
    "   print(i.name,i.gender)"
   ]
  },
  {
   "cell_type": "code",
   "execution_count": null,
   "metadata": {},
   "outputs": [],
   "source": []
  }
 ],
 "metadata": {
  "kernelspec": {
   "display_name": "Python 3",
   "language": "python",
   "name": "python3"
  },
  "language_info": {
   "codemirror_mode": {
    "name": "ipython",
    "version": 3
   },
   "file_extension": ".py",
   "mimetype": "text/x-python",
   "name": "python",
   "nbconvert_exporter": "python",
   "pygments_lexer": "ipython3",
   "version": "3.11.9"
  }
 },
 "nbformat": 4,
 "nbformat_minor": 2
}
