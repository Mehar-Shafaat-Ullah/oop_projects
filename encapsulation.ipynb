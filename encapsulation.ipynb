{
 "cells": [
  {
   "cell_type": "markdown",
   "metadata": {},
   "source": [
    "* **Write OOP classes to handle the following scenarios:**\n",
    "    * A user can create and view 2D coordinates.\n",
    "    * A user can find out the distance between 2 coordinates.\n",
    "    * A user can find the distance of coordinates from the origin.\n",
    "    * A user can check if a point lies on a given line.\n",
    "    * A user can find the distance between a given 2D point and a given line.\n"
   ]
  },
  {
   "cell_type": "code",
   "execution_count": 42,
   "metadata": {},
   "outputs": [],
   "source": [
    "class Point:\n",
    "    def __init__(self,x,y):\n",
    "        self.x_cod = x\n",
    "        self.y_cod  = y\n",
    "\n",
    "    def __str__(self):\n",
    "        return(f'<{self.x_cod},{self.y_cod}>')\n",
    "    \n",
    "        #user_input = input(\"Enter two coordinates using comma between them: \")\n",
    "        #x,y = map(int,user_input.split(\",\"))\n",
    "\n",
    "               \n",
    "    def euclidean_distance(self,other):\n",
    "        return ((self.x_cod - other.x_cod)**2 + (self.y_cod - other.y_cod)**2)*0.5\n",
    "    \n",
    "\n",
    "    def distance_from_origin(self):\n",
    "        #return self.euclidean_distance(Point(0,0))\n",
    "        return (self.x_cod**2 + self.y_cod**2)**0.5\n",
    "    \n",
    "\n",
    "class Line:\n",
    "    def __init__(self,A,B,C):\n",
    "        self.A = A\n",
    "        self.B = B\n",
    "        self.C = C\n",
    "    \n",
    "    def __str__(self):\n",
    "        return (f'{self.A}A + {self.B}B + {self.C}C = 0')\n",
    "    #we will use line instead self\n",
    "    def point_on_line(line,point):\n",
    "        if line.A * point.x_cod + line.B*point.y_cod + line.C == 0:\n",
    "            return \"lies on the line\"\n",
    "        else:\n",
    "            return \"does not lieson teh line\"\n",
    "        \n",
    "\n",
    "\n",
    "    def shortest_distance(line,point):\n",
    "         return abs(line.A *point.x_cod + line.B* point.y_cod + line.C)/(line.A**2 + line.B**2)**0.5"
   ]
  },
  {
   "cell_type": "code",
   "execution_count": 43,
   "metadata": {},
   "outputs": [
    {
     "name": "stdout",
     "output_type": "stream",
     "text": [
      "1A + 1B + 2C = 0\n",
      "<1,1>\n"
     ]
    },
    {
     "data": {
      "text/plain": [
       "2.82842712474619"
      ]
     },
     "execution_count": 43,
     "metadata": {},
     "output_type": "execute_result"
    }
   ],
   "source": [
    "l1 = Line(1,1,2)\n",
    "p1 = Point(1,1)\n",
    "print(l1)\n",
    "print(p1)\n",
    "#li is automatically passsed as input\n",
    "# we can pass object into the methods\n",
    "l1.shortest_distance(p1)"
   ]
  },
  {
   "cell_type": "code",
   "execution_count": 44,
   "metadata": {},
   "outputs": [
    {
     "data": {
      "text/plain": [
       "0.0"
      ]
     },
     "execution_count": 44,
     "metadata": {},
     "output_type": "execute_result"
    }
   ],
   "source": [
    "p1 = Point(0,0)\n",
    "p2 = Point(10,10)\n",
    "p1.distance_from_origin()"
   ]
  },
  {
   "cell_type": "markdown",
   "metadata": {},
   "source": [
    " **How Object acces attributes**"
   ]
  },
  {
   "cell_type": "code",
   "execution_count": 1,
   "metadata": {},
   "outputs": [],
   "source": [
    "class Person:\n",
    "\n",
    "    def __init__(self,name_input, country_input):\n",
    "        self.name = name_input\n",
    "        self.country = country_input\n",
    "\n",
    "    def greet(self):\n",
    "        if self.country == \"Pakistan\":\n",
    "            print (\"AOA\", self.name)\n",
    "        else:\n",
    "            print(\"Hello\", self.name)"
   ]
  },
  {
   "cell_type": "code",
   "execution_count": 11,
   "metadata": {},
   "outputs": [
    {
     "data": {
      "text/plain": [
       "'male'"
      ]
     },
     "execution_count": 11,
     "metadata": {},
     "output_type": "execute_result"
    }
   ],
   "source": [
    "p = Person(\"shafaat\",\"Pakistan\")\n",
    "#accessing attributes\n",
    "p.name\n",
    "p.country\n",
    "\n",
    "#we can aslo create attributes outside teh class , this attributes will automaticaaaly add in the class attributes\n",
    "p.gender = \"male\"\n",
    "p.gender"
   ]
  },
  {
   "cell_type": "code",
   "execution_count": null,
   "metadata": {},
   "outputs": [],
   "source": []
  }
 ],
 "metadata": {
  "kernelspec": {
   "display_name": "Python 3",
   "language": "python",
   "name": "python3"
  },
  "language_info": {
   "codemirror_mode": {
    "name": "ipython",
    "version": 3
   },
   "file_extension": ".py",
   "mimetype": "text/x-python",
   "name": "python",
   "nbconvert_exporter": "python",
   "pygments_lexer": "ipython3",
   "version": "3.11.9"
  }
 },
 "nbformat": 4,
 "nbformat_minor": 2
}
